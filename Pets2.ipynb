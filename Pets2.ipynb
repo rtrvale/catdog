{
  "nbformat": 4,
  "nbformat_minor": 0,
  "metadata": {
    "colab": {
      "name": "Pets2.ipynb",
      "provenance": [],
      "collapsed_sections": []
    },
    "kernelspec": {
      "name": "python3",
      "display_name": "Python 3"
    },
    "accelerator": "GPU"
  },
  "cells": [
    {
      "cell_type": "code",
      "metadata": {
        "id": "ouHcGqwaUE9c",
        "colab_type": "code",
        "colab": {}
      },
      "source": [
        "import pandas as pd\n",
        "import numpy as np\n",
        "import tensorflow as tf"
      ],
      "execution_count": 0,
      "outputs": []
    },
    {
      "cell_type": "code",
      "metadata": {
        "id": "yTYneTlVUNr4",
        "colab_type": "code",
        "colab": {}
      },
      "source": [
        "pets = pd.read_csv(\"https://raw.githubusercontent.com/rtrvale/datasets/master/pets_seattle_toronto.csv\")"
      ],
      "execution_count": 0,
      "outputs": []
    },
    {
      "cell_type": "code",
      "metadata": {
        "id": "bhHOEVJOUfrO",
        "colab_type": "code",
        "outputId": "c88a5d02-68d3-4462-84e0-4df4b1dc502e",
        "colab": {
          "base_uri": "https://localhost:8080/",
          "height": 72
        }
      },
      "source": [
        "pets['city'].value_counts()"
      ],
      "execution_count": 19,
      "outputs": [
        {
          "output_type": "execute_result",
          "data": {
            "text/plain": [
              "Seattle    49191\n",
              "Toronto    19377\n",
              "Name: city, dtype: int64"
            ]
          },
          "metadata": {
            "tags": []
          },
          "execution_count": 19
        }
      ]
    },
    {
      "cell_type": "code",
      "metadata": {
        "id": "NoELHHa9NEYn",
        "colab_type": "code",
        "colab": {
          "base_uri": "https://localhost:8080/",
          "height": 198
        },
        "outputId": "7fab0b61-363b-4610-d34f-ac410bc18f43"
      },
      "source": [
        "pets.head()"
      ],
      "execution_count": 20,
      "outputs": [
        {
          "output_type": "execute_result",
          "data": {
            "text/html": [
              "<div>\n",
              "<style scoped>\n",
              "    .dataframe tbody tr th:only-of-type {\n",
              "        vertical-align: middle;\n",
              "    }\n",
              "\n",
              "    .dataframe tbody tr th {\n",
              "        vertical-align: top;\n",
              "    }\n",
              "\n",
              "    .dataframe thead th {\n",
              "        text-align: right;\n",
              "    }\n",
              "</style>\n",
              "<table border=\"1\" class=\"dataframe\">\n",
              "  <thead>\n",
              "    <tr style=\"text-align: right;\">\n",
              "      <th></th>\n",
              "      <th>Unnamed: 0</th>\n",
              "      <th>name</th>\n",
              "      <th>species</th>\n",
              "      <th>year</th>\n",
              "      <th>city</th>\n",
              "      <th>count</th>\n",
              "    </tr>\n",
              "  </thead>\n",
              "  <tbody>\n",
              "    <tr>\n",
              "      <th>0</th>\n",
              "      <td>0</td>\n",
              "      <td>NaN</td>\n",
              "      <td>dog</td>\n",
              "      <td>2000</td>\n",
              "      <td>Seattle</td>\n",
              "      <td>1.0</td>\n",
              "    </tr>\n",
              "    <tr>\n",
              "      <th>1</th>\n",
              "      <td>1</td>\n",
              "      <td>FANCY</td>\n",
              "      <td>dog</td>\n",
              "      <td>2000</td>\n",
              "      <td>Seattle</td>\n",
              "      <td>1.0</td>\n",
              "    </tr>\n",
              "    <tr>\n",
              "      <th>2</th>\n",
              "      <td>2</td>\n",
              "      <td>SKIP</td>\n",
              "      <td>dog</td>\n",
              "      <td>2000</td>\n",
              "      <td>Seattle</td>\n",
              "      <td>1.0</td>\n",
              "    </tr>\n",
              "    <tr>\n",
              "      <th>3</th>\n",
              "      <td>3</td>\n",
              "      <td>KANGA</td>\n",
              "      <td>dog</td>\n",
              "      <td>2000</td>\n",
              "      <td>Seattle</td>\n",
              "      <td>1.0</td>\n",
              "    </tr>\n",
              "    <tr>\n",
              "      <th>4</th>\n",
              "      <td>4</td>\n",
              "      <td>OSCAR</td>\n",
              "      <td>dog</td>\n",
              "      <td>2000</td>\n",
              "      <td>Seattle</td>\n",
              "      <td>1.0</td>\n",
              "    </tr>\n",
              "  </tbody>\n",
              "</table>\n",
              "</div>"
            ],
            "text/plain": [
              "   Unnamed: 0   name species  year     city  count\n",
              "0           0    NaN     dog  2000  Seattle    1.0\n",
              "1           1  FANCY     dog  2000  Seattle    1.0\n",
              "2           2   SKIP     dog  2000  Seattle    1.0\n",
              "3           3  KANGA     dog  2000  Seattle    1.0\n",
              "4           4  OSCAR     dog  2000  Seattle    1.0"
            ]
          },
          "metadata": {
            "tags": []
          },
          "execution_count": 20
        }
      ]
    },
    {
      "cell_type": "code",
      "metadata": {
        "id": "3okXbDQeUmpn",
        "colab_type": "code",
        "colab": {}
      },
      "source": [
        "# train using the Seattle pet name data\n",
        "seattle_names = pets[pets['city'] == 'Seattle'].name"
      ],
      "execution_count": 0,
      "outputs": []
    },
    {
      "cell_type": "code",
      "metadata": {
        "id": "ZzD6fpJuUvwX",
        "colab_type": "code",
        "colab": {}
      },
      "source": [
        "seattle_species = pets[pets['city'] == 'Seattle'].species"
      ],
      "execution_count": 0,
      "outputs": []
    },
    {
      "cell_type": "code",
      "metadata": {
        "id": "e4Vh13kgUz9u",
        "colab_type": "code",
        "colab": {}
      },
      "source": [
        "# remove a NaN value - note that it has to be done in this order\n",
        "seattle_species = seattle_species[pd.notna(seattle_names)]\n",
        "seattle_names = seattle_names[pd.notna(seattle_names)]\n",
        "\n",
        "seattle_species = seattle_species.reset_index()['species']\n",
        "seattle_names = seattle_names.reset_index()['name']"
      ],
      "execution_count": 0,
      "outputs": []
    },
    {
      "cell_type": "code",
      "metadata": {
        "colab_type": "code",
        "id": "vZHvC5Pr2bLb",
        "colab": {}
      },
      "source": [
        "# build an encoder\n",
        "import tensorflow_datasets as tfds\n",
        "encoder = tfds.features.text.SubwordTextEncoder.build_from_corpus(\n",
        "    seattle_names, target_vocab_size=1000)"
      ],
      "execution_count": 0,
      "outputs": []
    },
    {
      "cell_type": "code",
      "metadata": {
        "id": "V4HEIab9PJtr",
        "colab_type": "code",
        "colab": {
          "base_uri": "https://localhost:8080/",
          "height": 35
        },
        "outputId": "43cf4e91-560a-4932-c4b9-59abc644a187"
      },
      "source": [
        "encoder.encode('REX')"
      ],
      "execution_count": 25,
      "outputs": [
        {
          "output_type": "execute_result",
          "data": {
            "text/plain": [
              "[24, 840]"
            ]
          },
          "metadata": {
            "tags": []
          },
          "execution_count": 25
        }
      ]
    },
    {
      "cell_type": "code",
      "metadata": {
        "id": "mpqFihY2XQhi",
        "colab_type": "code",
        "outputId": "a8c4dbb8-86fb-4a0c-82db-ba79d048d0ca",
        "colab": {
          "base_uri": "https://localhost:8080/",
          "height": 35
        }
      },
      "source": [
        "encoder.decode(encoder.encode(seattle_names[10]))"
      ],
      "execution_count": 26,
      "outputs": [
        {
          "output_type": "execute_result",
          "data": {
            "text/plain": [
              "'ZOEY'"
            ]
          },
          "metadata": {
            "tags": []
          },
          "execution_count": 26
        }
      ]
    },
    {
      "cell_type": "code",
      "metadata": {
        "id": "yiFCTTi-Xds_",
        "colab_type": "code",
        "outputId": "5d237c9a-f934-4b5f-93c6-068942dcfb39",
        "colab": {
          "base_uri": "https://localhost:8080/",
          "height": 35
        }
      },
      "source": [
        "encoder.vocab_size"
      ],
      "execution_count": 27,
      "outputs": [
        {
          "output_type": "execute_result",
          "data": {
            "text/plain": [
              "1008"
            ]
          },
          "metadata": {
            "tags": []
          },
          "execution_count": 27
        }
      ]
    },
    {
      "cell_type": "code",
      "metadata": {
        "id": "rORPlwTpgMZ6",
        "colab_type": "code",
        "colab": {}
      },
      "source": [
        "input_data = []\n",
        "for i in range(len(seattle_names)):\n",
        "  input_data += [encoder.encode(seattle_names[i])]"
      ],
      "execution_count": 0,
      "outputs": []
    },
    {
      "cell_type": "code",
      "metadata": {
        "id": "Wg4494k5h8qf",
        "colab_type": "code",
        "colab": {}
      },
      "source": [
        "# padding the input data\n",
        "\n",
        "np.max([len(x) for x in input_data])\n",
        "# 22\n",
        "\n",
        "for x in input_data:\n",
        "  if len(x) < 22:\n",
        "    x += [0]*(22 - len(x))"
      ],
      "execution_count": 0,
      "outputs": []
    },
    {
      "cell_type": "code",
      "metadata": {
        "id": "OdiWvRRUsR45",
        "colab_type": "code",
        "colab": {}
      },
      "source": [
        "input_data = np.array(input_data).reshape((len(input_data), 22))"
      ],
      "execution_count": 0,
      "outputs": []
    },
    {
      "cell_type": "code",
      "metadata": {
        "id": "wKzmZ1JLslwZ",
        "colab_type": "code",
        "colab": {}
      },
      "source": [
        "# making the y-variable\n",
        "\n",
        "seattle_species.head()\n",
        "y = (seattle_species == \"cat\")"
      ],
      "execution_count": 0,
      "outputs": []
    },
    {
      "cell_type": "code",
      "metadata": {
        "id": "f7APw-AJyJOM",
        "colab_type": "code",
        "outputId": "e2531d08-f957-4d19-a33f-2f7e41b55ee2",
        "colab": {
          "base_uri": "https://localhost:8080/",
          "height": 72
        }
      },
      "source": [
        "y.value_counts()"
      ],
      "execution_count": 32,
      "outputs": [
        {
          "output_type": "execute_result",
          "data": {
            "text/plain": [
              "False    33078\n",
              "True     15824\n",
              "Name: species, dtype: int64"
            ]
          },
          "metadata": {
            "tags": []
          },
          "execution_count": 32
        }
      ]
    },
    {
      "cell_type": "code",
      "metadata": {
        "id": "C6tMXRIfyQZL",
        "colab_type": "code",
        "colab": {}
      },
      "source": [
        "dog_sample = np.random.choice(np.where(~y)[0], 15824)\n",
        "cat_sample = np.where(y)[0]"
      ],
      "execution_count": 0,
      "outputs": []
    },
    {
      "cell_type": "code",
      "metadata": {
        "id": "gxJEBq1izeJi",
        "colab_type": "code",
        "colab": {}
      },
      "source": [
        "yb = pd.concat([y[dog_sample], y[cat_sample]])\n",
        "y_raw = yb"
      ],
      "execution_count": 0,
      "outputs": []
    },
    {
      "cell_type": "code",
      "metadata": {
        "id": "yu-7P-NAyxmO",
        "colab_type": "code",
        "colab": {}
      },
      "source": [
        "X = input_data[yb.index]\n",
        "X_raw = [encoder.decode(X[i]) for i in range(X.shape[0])]"
      ],
      "execution_count": 0,
      "outputs": []
    },
    {
      "cell_type": "code",
      "metadata": {
        "id": "ofz0q9ogzQUs",
        "colab_type": "code",
        "outputId": "eba04bef-8c1a-4e82-9e73-8271bbf2950e",
        "colab": {
          "base_uri": "https://localhost:8080/",
          "height": 72
        }
      },
      "source": [
        "yb.value_counts()"
      ],
      "execution_count": 36,
      "outputs": [
        {
          "output_type": "execute_result",
          "data": {
            "text/plain": [
              "True     15824\n",
              "False    15824\n",
              "Name: species, dtype: int64"
            ]
          },
          "metadata": {
            "tags": []
          },
          "execution_count": 36
        }
      ]
    },
    {
      "cell_type": "code",
      "metadata": {
        "id": "BywhraFMsydS",
        "colab_type": "code",
        "colab": {}
      },
      "source": [
        "yb = tf.keras.utils.to_categorical(yb)\n",
        "yb = yb.reshape((len(yb), 2))"
      ],
      "execution_count": 0,
      "outputs": []
    },
    {
      "cell_type": "code",
      "metadata": {
        "id": "wVeJqzTYzrdp",
        "colab_type": "code",
        "outputId": "3bfe1418-1074-48e9-da70-eb454a9b1a25",
        "colab": {
          "base_uri": "https://localhost:8080/",
          "height": 35
        }
      },
      "source": [
        "X.shape"
      ],
      "execution_count": 38,
      "outputs": [
        {
          "output_type": "execute_result",
          "data": {
            "text/plain": [
              "(31648, 22)"
            ]
          },
          "metadata": {
            "tags": []
          },
          "execution_count": 38
        }
      ]
    },
    {
      "cell_type": "code",
      "metadata": {
        "id": "HJWgMbk3zs5k",
        "colab_type": "code",
        "outputId": "68fb3a32-5de1-4ac8-eb6e-9c3c731a94cb",
        "colab": {
          "base_uri": "https://localhost:8080/",
          "height": 35
        }
      },
      "source": [
        "yb.shape"
      ],
      "execution_count": 39,
      "outputs": [
        {
          "output_type": "execute_result",
          "data": {
            "text/plain": [
              "(31648, 2)"
            ]
          },
          "metadata": {
            "tags": []
          },
          "execution_count": 39
        }
      ]
    },
    {
      "cell_type": "code",
      "metadata": {
        "id": "nN8CSa4B4zzf",
        "colab_type": "code",
        "colab": {}
      },
      "source": [
        "shuff = np.random.permutation(np.arange(yb.shape[0]))"
      ],
      "execution_count": 0,
      "outputs": []
    },
    {
      "cell_type": "code",
      "metadata": {
        "id": "Ow_NEQfr5JEN",
        "colab_type": "code",
        "colab": {}
      },
      "source": [
        "X = X[shuff, :]\n",
        "yb = yb[shuff, :]"
      ],
      "execution_count": 0,
      "outputs": []
    },
    {
      "cell_type": "code",
      "metadata": {
        "id": "_nc65Hn_xDUp",
        "colab_type": "code",
        "colab": {}
      },
      "source": [
        "model = tf.keras.Sequential([\n",
        "    tf.keras.layers.Embedding(encoder.vocab_size, 64, input_length=22),\n",
        "    tf.keras.layers.Bidirectional(tf.keras.layers.LSTM(100)),\n",
        "    tf.keras.layers.Dense(100, activation='relu'),\n",
        "    tf.keras.layers.Dropout(0.5),\n",
        "    tf.keras.layers.Dense(100, activation='relu'),\n",
        "    tf.keras.layers.Dense(2, activation='softmax')\n",
        "])\n",
        "\n",
        "model.compile(loss=tf.keras.losses.BinaryCrossentropy(from_logits=True),\n",
        "              optimizer=tf.keras.optimizers.Adam(1e-4),\n",
        "              metrics=['accuracy'])"
      ],
      "execution_count": 0,
      "outputs": []
    },
    {
      "cell_type": "code",
      "metadata": {
        "id": "DSgSXr0ltAj4",
        "colab_type": "code",
        "outputId": "222da1e6-87cc-4bd9-c036-cf6c4f1e6821",
        "colab": {
          "base_uri": "https://localhost:8080/",
          "height": 237
        }
      },
      "source": [
        "model.fit(X, yb, epochs=5, validation_split = 0.1)"
      ],
      "execution_count": 43,
      "outputs": [
        {
          "output_type": "stream",
          "text": [
            "Epoch 1/5\n",
            "891/891 [==============================] - 8s 9ms/step - loss: 0.7235 - accuracy: 0.5175 - val_loss: 0.7203 - val_accuracy: 0.5621\n",
            "Epoch 2/5\n",
            "891/891 [==============================] - 7s 8ms/step - loss: 0.7086 - accuracy: 0.5791 - val_loss: 0.7055 - val_accuracy: 0.5833\n",
            "Epoch 3/5\n",
            "891/891 [==============================] - 7s 8ms/step - loss: 0.6918 - accuracy: 0.6147 - val_loss: 0.6981 - val_accuracy: 0.5991\n",
            "Epoch 4/5\n",
            "891/891 [==============================] - 7s 8ms/step - loss: 0.6867 - accuracy: 0.6255 - val_loss: 0.6988 - val_accuracy: 0.6000\n",
            "Epoch 5/5\n",
            "891/891 [==============================] - 7s 8ms/step - loss: 0.6843 - accuracy: 0.6330 - val_loss: 0.6988 - val_accuracy: 0.5994\n"
          ],
          "name": "stdout"
        },
        {
          "output_type": "execute_result",
          "data": {
            "text/plain": [
              "<tensorflow.python.keras.callbacks.History at 0x7fd66f639278>"
            ]
          },
          "metadata": {
            "tags": []
          },
          "execution_count": 43
        }
      ]
    },
    {
      "cell_type": "code",
      "metadata": {
        "id": "RONx4bA6vGlW",
        "colab_type": "code",
        "outputId": "de19e519-8348-45f7-e939-ce84840591a4",
        "colab": {
          "base_uri": "https://localhost:8080/",
          "height": 35
        }
      },
      "source": [
        "# how to make a prediction\n",
        "enc = encoder.encode(\"FIDO\")\n",
        "enc = enc + [0]*(22-len(enc))\n",
        "model.predict(np.array(enc).reshape((1,22)))"
      ],
      "execution_count": 44,
      "outputs": [
        {
          "output_type": "execute_result",
          "data": {
            "text/plain": [
              "array([[0.02130414, 0.97869587]], dtype=float32)"
            ]
          },
          "metadata": {
            "tags": []
          },
          "execution_count": 44
        }
      ]
    },
    {
      "cell_type": "code",
      "metadata": {
        "id": "MnOz56q60aJX",
        "colab_type": "code",
        "colab": {}
      },
      "source": [
        "pred_cat = [x[0]>0.5 for x in model.predict(X[:1000])]\n",
        "cat = [x[0]>0.5 for x in yb[:1000]]"
      ],
      "execution_count": 0,
      "outputs": []
    },
    {
      "cell_type": "code",
      "metadata": {
        "id": "l8u22caK1GS8",
        "colab_type": "code",
        "outputId": "7760daae-0b49-4617-b0bc-02c2a6b84f88",
        "colab": {
          "base_uri": "https://localhost:8080/",
          "height": 138
        }
      },
      "source": [
        "pd.crosstab(pd.Series(pred_cat), pd.Series(cat))"
      ],
      "execution_count": 46,
      "outputs": [
        {
          "output_type": "execute_result",
          "data": {
            "text/html": [
              "<div>\n",
              "<style scoped>\n",
              "    .dataframe tbody tr th:only-of-type {\n",
              "        vertical-align: middle;\n",
              "    }\n",
              "\n",
              "    .dataframe tbody tr th {\n",
              "        vertical-align: top;\n",
              "    }\n",
              "\n",
              "    .dataframe thead th {\n",
              "        text-align: right;\n",
              "    }\n",
              "</style>\n",
              "<table border=\"1\" class=\"dataframe\">\n",
              "  <thead>\n",
              "    <tr style=\"text-align: right;\">\n",
              "      <th>col_0</th>\n",
              "      <th>False</th>\n",
              "      <th>True</th>\n",
              "    </tr>\n",
              "    <tr>\n",
              "      <th>row_0</th>\n",
              "      <th></th>\n",
              "      <th></th>\n",
              "    </tr>\n",
              "  </thead>\n",
              "  <tbody>\n",
              "    <tr>\n",
              "      <th>False</th>\n",
              "      <td>307</td>\n",
              "      <td>201</td>\n",
              "    </tr>\n",
              "    <tr>\n",
              "      <th>True</th>\n",
              "      <td>161</td>\n",
              "      <td>331</td>\n",
              "    </tr>\n",
              "  </tbody>\n",
              "</table>\n",
              "</div>"
            ],
            "text/plain": [
              "col_0  False  True \n",
              "row_0              \n",
              "False    307    201\n",
              "True     161    331"
            ]
          },
          "metadata": {
            "tags": []
          },
          "execution_count": 46
        }
      ]
    },
    {
      "cell_type": "code",
      "metadata": {
        "id": "hx5VsyUNzCnW",
        "colab_type": "code",
        "outputId": "230cc8c8-c20d-4c21-c8e2-471051d61233",
        "colab": {
          "base_uri": "https://localhost:8080/",
          "height": 35
        }
      },
      "source": [
        "tab = pd.crosstab(pd.Series(pred_cat), pd.Series(cat))\n",
        "(tab[0][0] + tab[1][1])/tab.sum().sum()"
      ],
      "execution_count": 47,
      "outputs": [
        {
          "output_type": "execute_result",
          "data": {
            "text/plain": [
              "0.638"
            ]
          },
          "metadata": {
            "tags": []
          },
          "execution_count": 47
        }
      ]
    },
    {
      "cell_type": "code",
      "metadata": {
        "id": "4aLPUexREKWL",
        "colab_type": "code",
        "outputId": "46f85fb7-8d0f-4900-a5f3-11554e988748",
        "colab": {
          "base_uri": "https://localhost:8080/",
          "height": 237
        }
      },
      "source": [
        "!pip install python-Levenshtein"
      ],
      "execution_count": 48,
      "outputs": [
        {
          "output_type": "stream",
          "text": [
            "Collecting python-Levenshtein\n",
            "\u001b[?25l  Downloading https://files.pythonhosted.org/packages/42/a9/d1785c85ebf9b7dfacd08938dd028209c34a0ea3b1bcdb895208bd40a67d/python-Levenshtein-0.12.0.tar.gz (48kB)\n",
            "\r\u001b[K     |██████▊                         | 10kB 33.1MB/s eta 0:00:01\r\u001b[K     |█████████████▌                  | 20kB 3.1MB/s eta 0:00:01\r\u001b[K     |████████████████████▏           | 30kB 3.7MB/s eta 0:00:01\r\u001b[K     |███████████████████████████     | 40kB 3.0MB/s eta 0:00:01\r\u001b[K     |████████████████████████████████| 51kB 2.7MB/s \n",
            "\u001b[?25hRequirement already satisfied: setuptools in /usr/local/lib/python3.6/dist-packages (from python-Levenshtein) (46.0.0)\n",
            "Building wheels for collected packages: python-Levenshtein\n",
            "  Building wheel for python-Levenshtein (setup.py) ... \u001b[?25l\u001b[?25hdone\n",
            "  Created wheel for python-Levenshtein: filename=python_Levenshtein-0.12.0-cp36-cp36m-linux_x86_64.whl size=144790 sha256=b17340d0501e67bfbe3bad8622820357ec4824edab746eb3cffd7d5ffc8f4aa8\n",
            "  Stored in directory: /root/.cache/pip/wheels/de/c2/93/660fd5f7559049268ad2dc6d81c4e39e9e36518766eaf7e342\n",
            "Successfully built python-Levenshtein\n",
            "Installing collected packages: python-Levenshtein\n",
            "Successfully installed python-Levenshtein-0.12.0\n"
          ],
          "name": "stdout"
        }
      ]
    },
    {
      "cell_type": "code",
      "metadata": {
        "id": "axA0MGIzEhrC",
        "colab_type": "code",
        "colab": {}
      },
      "source": [
        "from Levenshtein import distance"
      ],
      "execution_count": 0,
      "outputs": []
    },
    {
      "cell_type": "code",
      "metadata": {
        "id": "_rXPinfyCU3r",
        "colab_type": "code",
        "colab": {}
      },
      "source": [
        "def nb_classifier(strings, cat):\n",
        "  # set up dictionary to contain counts\n",
        "  nb_dict = {}\n",
        "\n",
        "  for i in range(len(strings)):\n",
        "    # split string into tokens\n",
        "    words = strings[i].split(\" \")\n",
        "  \n",
        "    for word in words:\n",
        "      word = word.strip()\n",
        "      # if word does not occur, add it\n",
        "      if word not in nb_dict:\n",
        "        nb_dict[word] = [0, 0]\n",
        "      # cat[i] = 0 if ith name is a dog, else 1\n",
        "      # nb_dict[word] = [cat count, dog count], a list of length 2\n",
        "      nb_dict[word][cat[i]] += 1\n",
        "      \n",
        "  return nb_dict\n",
        "\n",
        "def classify(name, nb_dict):\n",
        "  words = name.split(\" \")\n",
        "\n",
        "  # initialize outputs\n",
        "  cat_prob = 1\n",
        "  dog_prob = 1\n",
        "\n",
        "  # get total numbers of cats and dogs\n",
        "  total_cats = np.array([nb_dict[k][1] for k in nb_dict.keys()]).sum()\n",
        "  total_dogs = np.array([nb_dict[k][0] for k in nb_dict.keys()]).sum()\n",
        "\n",
        "  for word in words:\n",
        "    \n",
        "    cats = 0\n",
        "    dogs = 0\n",
        "    # convert word to upper case with no spaces\n",
        "    word = word.strip().upper()\n",
        "    # keep a record of which words are the closest\n",
        "    min_dist = distance(word, list(nb_dict.keys())[0])\n",
        "    for k in nb_dict.keys():\n",
        "      dist = distance(word, k)\n",
        "      # if k was closer than current closest word, use k instead\n",
        "      if dist < min_dist:\n",
        "        cats = nb_dict[k][1]\n",
        "        dogs = nb_dict[k][0]\n",
        "        min_dist = dist\n",
        "        # if exact match, no need to search further\n",
        "        if dist == 0:\n",
        "          break\n",
        "      # if k was as close as the current closest word, add the\n",
        "      # counts of cats and dogs from word k to current totals\n",
        "      elif dist == min_dist:\n",
        "        cats += nb_dict[k][1]\n",
        "        dogs += nb_dict[k][0]\n",
        "    # calculate naive Bayes probabilities by multiplying\n",
        "    cat_prob *= (cats + 1)/(total_cats + 1)\n",
        "    dog_prob *= (dogs + 1)/(total_dogs + 1)\n",
        "  return (cat_prob, dog_prob)\n"
      ],
      "execution_count": 0,
      "outputs": []
    },
    {
      "cell_type": "code",
      "metadata": {
        "id": "wJLBpA7NB_4F",
        "colab_type": "code",
        "colab": {}
      },
      "source": [
        "from sklearn.model_selection import train_test_split\n",
        "X_train, X_test, y_train, y_test = train_test_split(X_raw, y_raw, test_size=0.1)"
      ],
      "execution_count": 0,
      "outputs": []
    },
    {
      "cell_type": "code",
      "metadata": {
        "id": "nJ13ryAf5Hmq",
        "colab_type": "code",
        "colab": {}
      },
      "source": [
        "nb1 = nb_classifier(list(X_train), list(y_train))"
      ],
      "execution_count": 0,
      "outputs": []
    },
    {
      "cell_type": "code",
      "metadata": {
        "id": "sCoRcFHcI77r",
        "colab_type": "code",
        "colab": {}
      },
      "source": [
        "pred = []\n",
        "for i in range(len(list(X_test))):\n",
        "  pred += [classify(list(X_test)[i], nb1)]"
      ],
      "execution_count": 0,
      "outputs": []
    },
    {
      "cell_type": "code",
      "metadata": {
        "id": "XBbhyWgRJKIC",
        "colab_type": "code",
        "outputId": "94c2cedd-da8a-4090-fffc-1b0351654168",
        "colab": {
          "base_uri": "https://localhost:8080/",
          "height": 35
        }
      },
      "source": [
        "predClass = pd.Series([x[0] > x[1] for x in pred])\n",
        "predClass.index = y_test.index # re-indexing is necessary for pandas\n",
        "tab = pd.crosstab(predClass, pd.Series(y_test))\n",
        "(tab[0][0] + tab[1][1])/tab.sum().sum()"
      ],
      "execution_count": 54,
      "outputs": [
        {
          "output_type": "execute_result",
          "data": {
            "text/plain": [
              "0.6189573459715639"
            ]
          },
          "metadata": {
            "tags": []
          },
          "execution_count": 54
        }
      ]
    },
    {
      "cell_type": "code",
      "metadata": {
        "id": "H9t-jop-6SSg",
        "colab_type": "code",
        "outputId": "eb6720f4-989c-4791-ea7c-d393c4072b93",
        "colab": {
          "base_uri": "https://localhost:8080/",
          "height": 138
        }
      },
      "source": [
        "tab"
      ],
      "execution_count": 55,
      "outputs": [
        {
          "output_type": "execute_result",
          "data": {
            "text/html": [
              "<div>\n",
              "<style scoped>\n",
              "    .dataframe tbody tr th:only-of-type {\n",
              "        vertical-align: middle;\n",
              "    }\n",
              "\n",
              "    .dataframe tbody tr th {\n",
              "        vertical-align: top;\n",
              "    }\n",
              "\n",
              "    .dataframe thead th {\n",
              "        text-align: right;\n",
              "    }\n",
              "</style>\n",
              "<table border=\"1\" class=\"dataframe\">\n",
              "  <thead>\n",
              "    <tr style=\"text-align: right;\">\n",
              "      <th>species</th>\n",
              "      <th>False</th>\n",
              "      <th>True</th>\n",
              "    </tr>\n",
              "    <tr>\n",
              "      <th>row_0</th>\n",
              "      <th></th>\n",
              "      <th></th>\n",
              "    </tr>\n",
              "  </thead>\n",
              "  <tbody>\n",
              "    <tr>\n",
              "      <th>False</th>\n",
              "      <td>1119</td>\n",
              "      <td>726</td>\n",
              "    </tr>\n",
              "    <tr>\n",
              "      <th>True</th>\n",
              "      <td>480</td>\n",
              "      <td>840</td>\n",
              "    </tr>\n",
              "  </tbody>\n",
              "</table>\n",
              "</div>"
            ],
            "text/plain": [
              "species  False  True \n",
              "row_0                \n",
              "False     1119    726\n",
              "True       480    840"
            ]
          },
          "metadata": {
            "tags": []
          },
          "execution_count": 55
        }
      ]
    },
    {
      "cell_type": "code",
      "metadata": {
        "id": "ngtItP1-JyUp",
        "colab_type": "code",
        "outputId": "0c41f149-f5fa-411a-f780-05a59aa065c5",
        "colab": {
          "base_uri": "https://localhost:8080/",
          "height": 35
        }
      },
      "source": [
        "classify('REX', nb1)"
      ],
      "execution_count": 56,
      "outputs": [
        {
          "output_type": "execute_result",
          "data": {
            "text/plain": [
              "(0.0004480860325182435, 0.0011731734341393469)"
            ]
          },
          "metadata": {
            "tags": []
          },
          "execution_count": 56
        }
      ]
    },
    {
      "cell_type": "code",
      "metadata": {
        "id": "5z_utpw6Ihyt",
        "colab_type": "code",
        "outputId": "b4ec3dec-e3d8-4566-e7b4-efa7d15ea78b",
        "colab": {
          "base_uri": "https://localhost:8080/",
          "height": 35
        }
      },
      "source": [
        "classify('CAT', nb1)"
      ],
      "execution_count": 57,
      "outputs": [
        {
          "output_type": "execute_result",
          "data": {
            "text/plain": [
              "(0.002944565356548457, 6.517630189663039e-05)"
            ]
          },
          "metadata": {
            "tags": []
          },
          "execution_count": 57
        }
      ]
    },
    {
      "cell_type": "code",
      "metadata": {
        "id": "3Yqd_z-PKTxd",
        "colab_type": "code",
        "colab": {}
      },
      "source": [
        "def rnn_classifier(strings, cat):\n",
        "  encoder = tfds.features.text.SubwordTextEncoder.build_from_corpus(\n",
        "    strings, target_vocab_size=1000)\n",
        "  \n",
        "  # encode the strings\n",
        "  encoded = [encoder.encode(x) for x in strings]\n",
        "  max_encode_length = np.max([len(x) for x in encoded])\n",
        "  for i in range(len(encoded)):\n",
        "    encoded[i] += [0]*(max_encode_length - len(encoded[i]))\n",
        "\n",
        "  X = np.array(encoded).reshape((len(encoded), max_encode_length))\n",
        "  y = tf.keras.utils.to_categorical(cat)\n",
        "  y = y.reshape((len(cat), 2))\n",
        " \n",
        "  model = tf.keras.Sequential([\n",
        "    tf.keras.layers.Embedding(encoder.vocab_size, 64, input_length=max_encode_length),\n",
        "    tf.keras.layers.Bidirectional(tf.keras.layers.LSTM(100)),\n",
        "    tf.keras.layers.Dense(100, activation='relu'),\n",
        "    tf.keras.layers.Dropout(0.5),\n",
        "    tf.keras.layers.Dense(100, activation='relu'),\n",
        "    tf.keras.layers.Dense(2, activation='softmax')\n",
        "  ])\n",
        "\n",
        "  model.compile(loss=tf.keras.losses.BinaryCrossentropy(from_logits=True),\n",
        "              optimizer=tf.keras.optimizers.Adam(1e-4),\n",
        "              metrics=['accuracy'])\n",
        "  \n",
        "  model.fit(X, y, epochs=3)\n",
        "  return {'model':model, 'encoder':encoder, 'M':max_encode_length}\n",
        "\n",
        "def classify_rnn(name, rnn):\n",
        "  encoded = rnn['encoder'].encode(name)\n",
        "  encoded += [0]*(rnn['M'] - len(encoded))\n",
        "  pred = rnn['model'].predict(np.array(encoded).reshape((1, len(encoded))))\n",
        "  return pred[0][1]"
      ],
      "execution_count": 0,
      "outputs": []
    },
    {
      "cell_type": "code",
      "metadata": {
        "id": "-Yk1Y56PLxk2",
        "colab_type": "code",
        "outputId": "827c831c-d819-459c-8370-7381fcd3b55d",
        "colab": {
          "base_uri": "https://localhost:8080/",
          "height": 126
        }
      },
      "source": [
        "rnn = rnn_classifier(X_train, y_train)"
      ],
      "execution_count": 59,
      "outputs": [
        {
          "output_type": "stream",
          "text": [
            "Epoch 1/3\n",
            "891/891 [==============================] - 7s 7ms/step - loss: 0.7236 - accuracy: 0.5163\n",
            "Epoch 2/3\n",
            "891/891 [==============================] - 7s 7ms/step - loss: 0.7104 - accuracy: 0.5742\n",
            "Epoch 3/3\n",
            "891/891 [==============================] - 7s 7ms/step - loss: 0.6927 - accuracy: 0.6115\n"
          ],
          "name": "stdout"
        }
      ]
    },
    {
      "cell_type": "code",
      "metadata": {
        "id": "zuDZXQp4POQy",
        "colab_type": "code",
        "outputId": "de95ff3d-acc6-41fc-9f9c-bd53c39b386c",
        "colab": {
          "base_uri": "https://localhost:8080/",
          "height": 72
        }
      },
      "source": [
        "rnn"
      ],
      "execution_count": 60,
      "outputs": [
        {
          "output_type": "execute_result",
          "data": {
            "text/plain": [
              "{'M': 21,\n",
              " 'encoder': <SubwordTextEncoder vocab_size=1010>,\n",
              " 'model': <tensorflow.python.keras.engine.sequential.Sequential at 0x7fd648244ef0>}"
            ]
          },
          "metadata": {
            "tags": []
          },
          "execution_count": 60
        }
      ]
    },
    {
      "cell_type": "code",
      "metadata": {
        "id": "PQiYyPh5QCmY",
        "colab_type": "code",
        "outputId": "9af29748-abe9-49b6-b8ff-eb15351c84ea",
        "colab": {
          "base_uri": "https://localhost:8080/",
          "height": 35
        }
      },
      "source": [
        "classify('REX', nb1)"
      ],
      "execution_count": 65,
      "outputs": [
        {
          "output_type": "execute_result",
          "data": {
            "text/plain": [
              "(0.0004480860325182435, 0.0011731734341393469)"
            ]
          },
          "metadata": {
            "tags": []
          },
          "execution_count": 65
        }
      ]
    },
    {
      "cell_type": "code",
      "metadata": {
        "id": "xDi5RNWoR0aZ",
        "colab_type": "code",
        "outputId": "6f6a921a-543d-4ed5-b31b-eb81e30b3afb",
        "colab": {
          "base_uri": "https://localhost:8080/",
          "height": 35
        }
      },
      "source": [
        "classify_rnn('REX', rnn)"
      ],
      "execution_count": 66,
      "outputs": [
        {
          "output_type": "execute_result",
          "data": {
            "text/plain": [
              "0.0090955645"
            ]
          },
          "metadata": {
            "tags": []
          },
          "execution_count": 66
        }
      ]
    },
    {
      "cell_type": "code",
      "metadata": {
        "id": "qeGPbZKTQdtj",
        "colab_type": "code",
        "outputId": "459d64d1-3b87-4656-a765-b40b9fae761a",
        "colab": {
          "base_uri": "https://localhost:8080/",
          "height": 35
        }
      },
      "source": [
        "pred = []\n",
        "for i in range(len(X_test)):\n",
        "  pred += [classify_rnn(list(X_test)[i], rnn)]\n",
        "\n",
        "predClass = pd.Series([x > 0.5 for x in pred])\n",
        "predClass.index = y_test.index\n",
        "tab = pd.crosstab(predClass, pd.Series(y_test))\n",
        "(tab[0][0] + tab[1][1])/tab.sum().sum()"
      ],
      "execution_count": 63,
      "outputs": [
        {
          "output_type": "execute_result",
          "data": {
            "text/plain": [
              "0.608214849921011"
            ]
          },
          "metadata": {
            "tags": []
          },
          "execution_count": 63
        }
      ]
    },
    {
      "cell_type": "code",
      "metadata": {
        "id": "D3hl-kcM-Ity",
        "colab_type": "code",
        "outputId": "b2ad3306-da4d-4341-955c-58717cef8a0e",
        "colab": {
          "base_uri": "https://localhost:8080/",
          "height": 138
        }
      },
      "source": [
        "tab"
      ],
      "execution_count": 64,
      "outputs": [
        {
          "output_type": "execute_result",
          "data": {
            "text/html": [
              "<div>\n",
              "<style scoped>\n",
              "    .dataframe tbody tr th:only-of-type {\n",
              "        vertical-align: middle;\n",
              "    }\n",
              "\n",
              "    .dataframe tbody tr th {\n",
              "        vertical-align: top;\n",
              "    }\n",
              "\n",
              "    .dataframe thead th {\n",
              "        text-align: right;\n",
              "    }\n",
              "</style>\n",
              "<table border=\"1\" class=\"dataframe\">\n",
              "  <thead>\n",
              "    <tr style=\"text-align: right;\">\n",
              "      <th>species</th>\n",
              "      <th>False</th>\n",
              "      <th>True</th>\n",
              "    </tr>\n",
              "    <tr>\n",
              "      <th>row_0</th>\n",
              "      <th></th>\n",
              "      <th></th>\n",
              "    </tr>\n",
              "  </thead>\n",
              "  <tbody>\n",
              "    <tr>\n",
              "      <th>False</th>\n",
              "      <td>1034</td>\n",
              "      <td>675</td>\n",
              "    </tr>\n",
              "    <tr>\n",
              "      <th>True</th>\n",
              "      <td>565</td>\n",
              "      <td>891</td>\n",
              "    </tr>\n",
              "  </tbody>\n",
              "</table>\n",
              "</div>"
            ],
            "text/plain": [
              "species  False  True \n",
              "row_0                \n",
              "False     1034    675\n",
              "True       565    891"
            ]
          },
          "metadata": {
            "tags": []
          },
          "execution_count": 64
        }
      ]
    }
  ]
}